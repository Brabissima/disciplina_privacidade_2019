{
 "cells": [
  {
   "cell_type": "code",
   "execution_count": null,
   "metadata": {},
   "outputs": [],
   "source": [
    "import pandas as pd\n",
    "import numpy as np\n",
    "import csv"
   ]
  },
  {
   "cell_type": "code",
   "execution_count": 2,
   "metadata": {},
   "outputs": [],
   "source": [
    "df = pd.read_csv('salario.csv')\n",
    "salario_2 = df.drop('salario', axis=1)"
   ]
  },
  {
   "cell_type": "markdown",
   "metadata": {},
   "source": [
    "* ## *Splita a data*"
   ]
  },
  {
   "cell_type": "code",
   "execution_count": 3,
   "metadata": {},
   "outputs": [],
   "source": [
    "dt2 = []\n",
    "dt2 = salario_2[\"data\"].str.split(\"/\", n = 2, expand = True)\n",
    "salario_2 = salario_2.drop(\"data\", axis=1)\n",
    "salario_2['dia'] = dt2[0]\n",
    "salario_2['mes'] = dt2[1]\n",
    "salario_2['ano'] = dt2[2]"
   ]
  },
  {
   "cell_type": "code",
   "execution_count": 4,
   "metadata": {},
   "outputs": [],
   "source": [
    "ids = salario_2.id.unique().tolist()\n",
    "cidades = salario_2.cidade.unique().tolist()\n",
    "estados = salario_2.estado.unique().tolist()\n",
    "paises = salario_2.pais.unique().tolist()\n",
    "generos = salario_2.genero.unique().tolist()\n",
    "dias = salario_2.dia.unique().tolist()\n",
    "meses = salario_2.mes.unique().tolist()\n",
    "anos = salario_2.ano.unique().tolist()\n",
    "\n",
    "colunas = [ids, paises, estados, cidades, generos, dias, meses, anos]"
   ]
  },
  {
   "cell_type": "markdown",
   "metadata": {},
   "source": [
    "* ## *Função de Precisão* "
   ]
  },
  {
   "cell_type": "code",
   "execution_count": 57,
   "metadata": {},
   "outputs": [],
   "source": [
    "def precisao():\n",
    "    return 'aaaaa'"
   ]
  },
  {
   "cell_type": "code",
   "execution_count": 45,
   "metadata": {},
   "outputs": [],
   "source": [
    "def agrupa(df, atributo, i): #df: dataframe, atributo: lista, i: indice do atributo na coluna\n",
    "    colunas = ['id', 'pais', 'estado', 'cidade','genero', 'dia', 'mes', 'ano']\n",
    "    count = 0\n",
    "    grupos = []\n",
    "    for at in atributo:\n",
    "        atrib = df.groupby(colunas[i])\n",
    "        atrib = atrib.get_group(at)\n",
    "        list(atrib)\n",
    "        count = count+1\n",
    "        grupos.append(atrib)\n",
    "         #print(\"Grupo {}: \\n{}\\n{}\".format(count,atrib,\"-\"*100))\n",
    "    return grupos"
   ]
  },
  {
   "cell_type": "code",
   "execution_count": 34,
   "metadata": {},
   "outputs": [],
   "source": [
    "#agrupa(salario_2,paises,1)"
   ]
  },
  {
   "cell_type": "code",
   "execution_count": null,
   "metadata": {},
   "outputs": [],
   "source": [
    "#colunas = ['id', 'pais', 'estado', 'cidade','genero', 'dia', 'mes', 'ano']"
   ]
  },
  {
   "cell_type": "markdown",
   "metadata": {},
   "source": [
    "* ## *Transforma a lista de dataframes em uma lista de listas*\n",
    "não to usando"
   ]
  },
  {
   "cell_type": "code",
   "execution_count": null,
   "metadata": {},
   "outputs": [],
   "source": [
    "def dt_to_list(a):\n",
    "    lista = []\n",
    "    for i in range(0,len(a)):\n",
    "        l = list(a[i][:])\n",
    "        lista.append(l)\n",
    "    a = lista\n",
    "    return a"
   ]
  },
  {
   "cell_type": "code",
   "execution_count": 56,
   "metadata": {},
   "outputs": [],
   "source": [
    "test = agrupa(salario_2, paises, 1)\n",
    "#test = dt_to_list(test)\n",
    "#test\n",
    "\n",
    "#type(test[0][:])\n",
    "#dt_to_list(agrupa(salario_2,estados,2))"
   ]
  },
  {
   "cell_type": "code",
   "execution_count": null,
   "metadata": {},
   "outputs": [],
   "source": [
    "#def distance(reg1, reg2):\n",
    "#    reg1 = np.array(reg1)\n",
    "#    reg2 = np.array(reg2)\n",
    "#    count = 0\n",
    "#    for i in range(0, reg1.shape[1]):\n",
    "#        if(reg1[0][i]!= reg2[0][i]):\n",
    "#            count = count + 1\n",
    "#    return count"
   ]
  },
  {
   "cell_type": "code",
   "execution_count": null,
   "metadata": {},
   "outputs": [],
   "source": [
    "#def ordenarDist(df):\n",
    "#    distances = []\n",
    "#    for i in range(0, df.shape[0]):\n",
    "#        for j in range(i+1,df.shape[0]-1):\n",
    "#            dis = distance(df.loc[[i]],df.loc[[j]])\n",
    "#            distances.append([dis, i, j])\n",
    "#    distances = sorted(distances),\n",
    "#    return distances"
   ]
  },
  {
   "cell_type": "markdown",
   "metadata": {},
   "source": [
    "* ## *Compara os atributos dos registros*: \n",
    "era pra agrupar pra cada atributo (sem incluir dia, mes e ano, pq n tem nenhum igual) e verificar se tem k registros com atributos iguais"
   ]
  },
  {
   "cell_type": "code",
   "execution_count": 53,
   "metadata": {},
   "outputs": [],
   "source": [
    "def compara(k, df, atributos):    \n",
    "    #g_pais = dt_to_list(agrupa(df, atributos[1], 1))\n",
    "    #g_estados = dt_to_list(agrupa(df, atributos[2], 2))\n",
    "    #g_cidades = dt_to_list(agrupa(df, atributos[3], 3))\n",
    "    #g_generos = dt_to_list(agrupa(df, atributos[4], 4))\n",
    "    #g_dias = dt_to_list(agrupa(df, atributos[5], 5))\n",
    "    #g_meses = dt_to_list(agrupa(df, atributos[6], 6))\n",
    "    #g_anos = dt_to_list(agrupa(df, atributos[7], 7))\n",
    "    \n",
    "    g_pais = pd.DataFrame(agrupa(df, atributos[1], 1))\n",
    "    g_estados = pd.DataFrame(agrupa(df, atributos[2], 2))\n",
    "    g_cidades = pd.DataFrame(agrupa(df, atributos[3], 3))\n",
    "    g_generos = pd.DataFrame(agrupa(df, atributos[4], 4))\n",
    "    g_dias = pd.DataFrame(agrupa(df, atributos[5], 5))\n",
    "    g_meses = pd.DataFrame(agrupa(df, atributos[6], 6))\n",
    "    g_anos = pd.DataFrame(agrupa(df, atributos[7], 7))\n",
    "    \n",
    "    grupao = [g_pais,g_estados,g_cidades,g_generos,g_dias,g_meses,g_anos]\n",
    "    clusters = []    \n",
    "    \n",
    "    for grupo in range(0,len(grupao)-3):\n",
    "        for atributo in atributos:\n",
    "            cluster = compara(k,grupo,atributos)\n",
    "            clusters.append(cluster)\n",
    "        if(len(cluster)< k):\n",
    "            generaliza(atributo)"
   ]
  },
  {
   "cell_type": "code",
   "execution_count": 54,
   "metadata": {},
   "outputs": [
    {
     "ename": "AttributeError",
     "evalue": "'int' object has no attribute 'groupby'",
     "output_type": "error",
     "traceback": [
      "\u001b[0;31m---------------------------------------------------------------------------\u001b[0m",
      "\u001b[0;31mAttributeError\u001b[0m                            Traceback (most recent call last)",
      "\u001b[0;32m<ipython-input-54-1d87aa39c6aa>\u001b[0m in \u001b[0;36m<module>\u001b[0;34m\u001b[0m\n\u001b[0;32m----> 1\u001b[0;31m \u001b[0mcompara\u001b[0m\u001b[0;34m(\u001b[0m\u001b[0;36m2\u001b[0m\u001b[0;34m,\u001b[0m\u001b[0msalario_2\u001b[0m\u001b[0;34m,\u001b[0m\u001b[0mcolunas\u001b[0m\u001b[0;34m)\u001b[0m\u001b[0;34m\u001b[0m\u001b[0;34m\u001b[0m\u001b[0m\n\u001b[0m",
      "\u001b[0;32m<ipython-input-53-97ddad3cc0a3>\u001b[0m in \u001b[0;36mcompara\u001b[0;34m(k, df, atributos)\u001b[0m\n\u001b[1;32m     21\u001b[0m     \u001b[0;32mfor\u001b[0m \u001b[0mgrupo\u001b[0m \u001b[0;32min\u001b[0m \u001b[0mrange\u001b[0m\u001b[0;34m(\u001b[0m\u001b[0;36m0\u001b[0m\u001b[0;34m,\u001b[0m\u001b[0mlen\u001b[0m\u001b[0;34m(\u001b[0m\u001b[0mgrupao\u001b[0m\u001b[0;34m)\u001b[0m\u001b[0;34m-\u001b[0m\u001b[0;36m3\u001b[0m\u001b[0;34m)\u001b[0m\u001b[0;34m:\u001b[0m\u001b[0;34m\u001b[0m\u001b[0;34m\u001b[0m\u001b[0m\n\u001b[1;32m     22\u001b[0m         \u001b[0;32mfor\u001b[0m \u001b[0matributo\u001b[0m \u001b[0;32min\u001b[0m \u001b[0matributos\u001b[0m\u001b[0;34m:\u001b[0m\u001b[0;34m\u001b[0m\u001b[0;34m\u001b[0m\u001b[0m\n\u001b[0;32m---> 23\u001b[0;31m             \u001b[0mcluster\u001b[0m \u001b[0;34m=\u001b[0m \u001b[0mcompara\u001b[0m\u001b[0;34m(\u001b[0m\u001b[0mk\u001b[0m\u001b[0;34m,\u001b[0m\u001b[0mgrupo\u001b[0m\u001b[0;34m,\u001b[0m\u001b[0matributos\u001b[0m\u001b[0;34m)\u001b[0m\u001b[0;34m\u001b[0m\u001b[0;34m\u001b[0m\u001b[0m\n\u001b[0m\u001b[1;32m     24\u001b[0m             \u001b[0mclusters\u001b[0m\u001b[0;34m.\u001b[0m\u001b[0mappend\u001b[0m\u001b[0;34m(\u001b[0m\u001b[0mcluster\u001b[0m\u001b[0;34m)\u001b[0m\u001b[0;34m\u001b[0m\u001b[0;34m\u001b[0m\u001b[0m\n\u001b[1;32m     25\u001b[0m         \u001b[0;32mif\u001b[0m\u001b[0;34m(\u001b[0m\u001b[0mlen\u001b[0m\u001b[0;34m(\u001b[0m\u001b[0mcluster\u001b[0m\u001b[0;34m)\u001b[0m\u001b[0;34m<\u001b[0m \u001b[0mk\u001b[0m\u001b[0;34m)\u001b[0m\u001b[0;34m:\u001b[0m\u001b[0;34m\u001b[0m\u001b[0;34m\u001b[0m\u001b[0m\n",
      "\u001b[0;32m<ipython-input-53-97ddad3cc0a3>\u001b[0m in \u001b[0;36mcompara\u001b[0;34m(k, df, atributos)\u001b[0m\n\u001b[1;32m      8\u001b[0m     \u001b[0;31m#g_anos = dt_to_list(agrupa(df, atributos[7], 7))\u001b[0m\u001b[0;34m\u001b[0m\u001b[0;34m\u001b[0m\u001b[0;34m\u001b[0m\u001b[0m\n\u001b[1;32m      9\u001b[0m \u001b[0;34m\u001b[0m\u001b[0m\n\u001b[0;32m---> 10\u001b[0;31m     \u001b[0mg_pais\u001b[0m \u001b[0;34m=\u001b[0m \u001b[0mpd\u001b[0m\u001b[0;34m.\u001b[0m\u001b[0mDataFrame\u001b[0m\u001b[0;34m(\u001b[0m\u001b[0magrupa\u001b[0m\u001b[0;34m(\u001b[0m\u001b[0mdf\u001b[0m\u001b[0;34m,\u001b[0m \u001b[0matributos\u001b[0m\u001b[0;34m[\u001b[0m\u001b[0;36m1\u001b[0m\u001b[0;34m]\u001b[0m\u001b[0;34m,\u001b[0m \u001b[0;36m1\u001b[0m\u001b[0;34m)\u001b[0m\u001b[0;34m)\u001b[0m\u001b[0;34m\u001b[0m\u001b[0;34m\u001b[0m\u001b[0m\n\u001b[0m\u001b[1;32m     11\u001b[0m     \u001b[0mg_estados\u001b[0m \u001b[0;34m=\u001b[0m \u001b[0mpd\u001b[0m\u001b[0;34m.\u001b[0m\u001b[0mDataFrame\u001b[0m\u001b[0;34m(\u001b[0m\u001b[0magrupa\u001b[0m\u001b[0;34m(\u001b[0m\u001b[0mdf\u001b[0m\u001b[0;34m,\u001b[0m \u001b[0matributos\u001b[0m\u001b[0;34m[\u001b[0m\u001b[0;36m2\u001b[0m\u001b[0;34m]\u001b[0m\u001b[0;34m,\u001b[0m \u001b[0;36m2\u001b[0m\u001b[0;34m)\u001b[0m\u001b[0;34m)\u001b[0m\u001b[0;34m\u001b[0m\u001b[0;34m\u001b[0m\u001b[0m\n\u001b[1;32m     12\u001b[0m     \u001b[0mg_cidades\u001b[0m \u001b[0;34m=\u001b[0m \u001b[0mpd\u001b[0m\u001b[0;34m.\u001b[0m\u001b[0mDataFrame\u001b[0m\u001b[0;34m(\u001b[0m\u001b[0magrupa\u001b[0m\u001b[0;34m(\u001b[0m\u001b[0mdf\u001b[0m\u001b[0;34m,\u001b[0m \u001b[0matributos\u001b[0m\u001b[0;34m[\u001b[0m\u001b[0;36m3\u001b[0m\u001b[0;34m]\u001b[0m\u001b[0;34m,\u001b[0m \u001b[0;36m3\u001b[0m\u001b[0;34m)\u001b[0m\u001b[0;34m)\u001b[0m\u001b[0;34m\u001b[0m\u001b[0;34m\u001b[0m\u001b[0m\n",
      "\u001b[0;32m<ipython-input-45-ae4439f5a5b6>\u001b[0m in \u001b[0;36magrupa\u001b[0;34m(df, atributo, i)\u001b[0m\n\u001b[1;32m      4\u001b[0m     \u001b[0mgrupos\u001b[0m \u001b[0;34m=\u001b[0m \u001b[0;34m[\u001b[0m\u001b[0;34m]\u001b[0m\u001b[0;34m\u001b[0m\u001b[0;34m\u001b[0m\u001b[0m\n\u001b[1;32m      5\u001b[0m     \u001b[0;32mfor\u001b[0m \u001b[0mat\u001b[0m \u001b[0;32min\u001b[0m \u001b[0matributo\u001b[0m\u001b[0;34m:\u001b[0m\u001b[0;34m\u001b[0m\u001b[0;34m\u001b[0m\u001b[0m\n\u001b[0;32m----> 6\u001b[0;31m         \u001b[0matrib\u001b[0m \u001b[0;34m=\u001b[0m \u001b[0mdf\u001b[0m\u001b[0;34m.\u001b[0m\u001b[0mgroupby\u001b[0m\u001b[0;34m(\u001b[0m\u001b[0mcolunas\u001b[0m\u001b[0;34m[\u001b[0m\u001b[0mi\u001b[0m\u001b[0;34m]\u001b[0m\u001b[0;34m)\u001b[0m\u001b[0;34m\u001b[0m\u001b[0;34m\u001b[0m\u001b[0m\n\u001b[0m\u001b[1;32m      7\u001b[0m         \u001b[0matrib\u001b[0m \u001b[0;34m=\u001b[0m \u001b[0matrib\u001b[0m\u001b[0;34m.\u001b[0m\u001b[0mget_group\u001b[0m\u001b[0;34m(\u001b[0m\u001b[0mat\u001b[0m\u001b[0;34m)\u001b[0m\u001b[0;34m\u001b[0m\u001b[0;34m\u001b[0m\u001b[0m\n\u001b[1;32m      8\u001b[0m         \u001b[0mlist\u001b[0m\u001b[0;34m(\u001b[0m\u001b[0matrib\u001b[0m\u001b[0;34m)\u001b[0m\u001b[0;34m\u001b[0m\u001b[0;34m\u001b[0m\u001b[0m\n",
      "\u001b[0;31mAttributeError\u001b[0m: 'int' object has no attribute 'groupby'"
     ]
    }
   ],
   "source": [
    "compara(2,salario_2,colunas)"
   ]
  },
  {
   "cell_type": "code",
   "execution_count": 52,
   "metadata": {},
   "outputs": [],
   "source": [
    "def generaliza(atributo):\n",
    "    return 'aaa'"
   ]
  }
 ],
 "metadata": {
  "kernelspec": {
   "display_name": "Python 3",
   "language": "python",
   "name": "python3"
  },
  "language_info": {
   "codemirror_mode": {
    "name": "ipython",
    "version": 3
   },
   "file_extension": ".py",
   "mimetype": "text/x-python",
   "name": "python",
   "nbconvert_exporter": "python",
   "pygments_lexer": "ipython3",
   "version": "3.7.3"
  }
 },
 "nbformat": 4,
 "nbformat_minor": 2
}
