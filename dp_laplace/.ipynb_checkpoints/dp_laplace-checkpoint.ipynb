{
 "cells": [
  {
   "cell_type": "code",
   "execution_count": 1,
   "metadata": {},
   "outputs": [],
   "source": [
    "import numpy as np\n",
    "import pandas as pd\n",
    "import math\n",
    "import time\n",
    "from scipy.stats import laplace\n",
    "from multiprocessing.pool import ThreadPool"
   ]
  },
  {
   "cell_type": "markdown",
   "metadata": {},
   "source": [
    "# Pré-processamento do dataset"
   ]
  },
  {
   "cell_type": "code",
   "execution_count": 2,
   "metadata": {},
   "outputs": [],
   "source": [
    "def preProcessamento(dataset):\n",
    "    return np.array(dataset)"
   ]
  },
  {
   "cell_type": "markdown",
   "metadata": {},
   "source": [
    "# Funções de consultas"
   ]
  },
  {
   "cell_type": "code",
   "execution_count": 3,
   "metadata": {},
   "outputs": [],
   "source": [
    "def Q1(dataset):    \n",
    "    return np.mean(dataset[:,0])"
   ]
  },
  {
   "cell_type": "code",
   "execution_count": 4,
   "metadata": {},
   "outputs": [],
   "source": [
    "def Q2(dataset):\n",
    "    return np.sum(dataset[:,10])"
   ]
  },
  {
   "cell_type": "code",
   "execution_count": 5,
   "metadata": {},
   "outputs": [],
   "source": [
    "def Q3(dataset):\n",
    "    return np.mean(dataset[:,12])"
   ]
  },
  {
   "cell_type": "code",
   "execution_count": 6,
   "metadata": {},
   "outputs": [],
   "source": [
    "def Q4(dataset):\n",
    "    contIncome50k = 0\n",
    "    for registro in dataset:\n",
    "        if(registro[14] == '>50K'):\n",
    "            contIncome50k = contIncome50k + 1\n",
    "    return contIncome50k"
   ]
  },
  {
   "cell_type": "markdown",
   "metadata": {},
   "source": [
    "# Obtenção da sensibilidade global de todas as funções de consulta"
   ]
  },
  {
   "cell_type": "code",
   "execution_count": 7,
   "metadata": {},
   "outputs": [],
   "source": [
    "def sensibilidadeGlobal(consultas, dataset):\n",
    "    sensibilidades = np.zeros(len(consultas)).tolist()\n",
    "    respostasConsultas = []\n",
    "    for consulta in consultas:\n",
    "        respostasConsultas.append(consulta(dataset))\n",
    "    for registro in range(0, dataset.shape[0]):\n",
    "        datasetVizinho = np.copy(dataset)\n",
    "        datasetVizinho = np.delete(datasetVizinho, registro, 0)\n",
    "        for i in range(0, len(consultas)):\n",
    "            respostaVizinho = consultas[i](datasetVizinho)\n",
    "            sens = abs(respostasConsultas[i] - respostaVizinho)\n",
    "            if(sens >= sensibilidades[i]):\n",
    "                sensibilidades[i] = sens\n",
    "            time.sleep(0.00001)\n",
    "    return sensibilidades"
   ]
  },
  {
   "cell_type": "code",
   "execution_count": 8,
   "metadata": {},
   "outputs": [],
   "source": [
    "def sensibilidadeGlobalMult(consultas, dataset):\n",
    "    pool = ThreadPool(processes = 100)\n",
    "    async_call = pool.apply_async(sensibilidadeGlobal, (consultas, dataset, ))\n",
    "    return async_call.get()"
   ]
  },
  {
   "cell_type": "code",
   "execution_count": 9,
   "metadata": {},
   "outputs": [],
   "source": [
    "def adquirirSensibilidades(consultas, dataset):\n",
    "    sensibilidades = sensibilidadeGlobalMult(consultas, dataset)\n",
    "    return sensibilidades"
   ]
  },
  {
   "cell_type": "markdown",
   "metadata": {},
   "source": [
    "# Geração da resposta com ruído"
   ]
  },
  {
   "cell_type": "code",
   "execution_count": 10,
   "metadata": {},
   "outputs": [],
   "source": [
    "def respostaRuido(budget, sensibilidade, funcaoConsulta, dataset):\n",
    "    respostaConsulta = funcaoConsulta(dataset)\n",
    "    probOriginal = laplace.pdf(0, loc = 0, scale = sensibilidade/budget)\n",
    "    privacidade = False\n",
    "    respostaRuido = 0\n",
    "    np.random.seed(0)\n",
    "    while(not privacidade):\n",
    "        ruido = laplace.rvs(loc = 0, scale = sensibilidade/budget)\n",
    "        resposta = respostaConsulta + ruido\n",
    "        probRuido = laplace.pdf(ruido, loc = 0, scale = sensibilidade/budget)\n",
    "        if(probOriginal <= (math.e**budget)*probRuido):\n",
    "            privacidade = True\n",
    "            respostaRuido = resposta\n",
    "    return respostaRuido"
   ]
  },
  {
   "cell_type": "markdown",
   "metadata": {},
   "source": [
    "# Gerar CSV"
   ]
  },
  {
   "cell_type": "code",
   "execution_count": 11,
   "metadata": {},
   "outputs": [],
   "source": [
    "def posProcessamento(budgets, respostas, sensibilidades):\n",
    "    datasetFinal = []\n",
    "    for i in range(0, len(budgets)):\n",
    "        registro = [budgets[i]]\n",
    "        for j in range(0, len(respostas[i])):\n",
    "            registro.append(respostas[i][j])\n",
    "        for j in range(0, len(sensibilidades)):\n",
    "            registro.append(sensibilidades[j])\n",
    "        datasetFinal.append(registro)\n",
    "    datasetFinal = pd.DataFrame(datasetFinal, columns=['budget', 'result_q1', 'result_q2', 'result_q3', 'result_q4', \n",
    "                                                       'sens _q1', 'sens_q2', 'sens_q3', 'sens_q4'])\n",
    "    arquivo = 'result.csv'\n",
    "    datasetFinal.to_csv(arquivo, index=False)"
   ]
  },
  {
   "cell_type": "markdown",
   "metadata": {},
   "source": [
    "# Execução"
   ]
  },
  {
   "cell_type": "code",
   "execution_count": 12,
   "metadata": {
    "scrolled": true
   },
   "outputs": [],
   "source": [
    "dataset = pd.read_csv('adult.csv')\n",
    "dataset = preProcessamento(dataset)"
   ]
  },
  {
   "cell_type": "code",
   "execution_count": 13,
   "metadata": {},
   "outputs": [],
   "source": [
    "consultas = [Q1, Q2, Q3, Q4]\n",
    "budgets = [0.1, 1, 10]\n",
    "sensibilidades = adquirirSensibilidades(consultas, dataset)"
   ]
  },
  {
   "cell_type": "code",
   "execution_count": 14,
   "metadata": {},
   "outputs": [],
   "source": [
    "respostas = []\n",
    "for budget in budgets:\n",
    "    respostaBudget = []\n",
    "    for i in range(0, len(consultas)):\n",
    "        np.random.seed()\n",
    "        resposta = respostaRuido(budget/len(consultas), sensibilidades[i], consultas[i], dataset)\n",
    "        respostaBudget.append(resposta)\n",
    "    respostas.append(respostaBudget)\n",
    "posProcessamento(budgets, respostas, sensibilidades)"
   ]
  },
  {
   "cell_type": "code",
   "execution_count": 15,
   "metadata": {},
   "outputs": [
    {
     "name": "stdout",
     "output_type": "stream",
     "text": [
      "Budget: 0.1\n",
      "Consulta: Q1\n",
      "Sensibilidade: 4.5636285693984036e-05\n",
      "Resposta Original: 1.7710781704270915\n",
      "Resposta + Ruído: 1.7710830120318177 \n",
      "\n",
      "Budget: 0.1\n",
      "Consulta: Q2\n",
      "Sensibilidade: 4\n",
      "Resposta Original: 9784\n",
      "Resposta + Ruído: 9784.42436448564 \n",
      "\n",
      "Budget: 0.1\n",
      "Consulta: Q3\n",
      "Sensibilidade: 4.19586378328507e-05\n",
      "Resposta Original: 1.9506981696081243\n",
      "Resposta + Ruído: 1.9507026210470648 \n",
      "\n",
      "Budget: 0.1\n",
      "Consulta: Q4\n",
      "Sensibilidade: 1\n",
      "Resposta Original: 11687\n",
      "Resposta + Ruído: 11687.10609112141 \n",
      "\n",
      "Budget: 1\n",
      "Consulta: Q1\n",
      "Sensibilidade: 4.5636285693984036e-05\n",
      "Resposta Original: 1.7710781704270915\n",
      "Resposta + Ruído: 1.7710969228017759 \n",
      "\n",
      "Budget: 1\n",
      "Consulta: Q2\n",
      "Sensibilidade: 4\n",
      "Resposta Original: 9784\n",
      "Resposta + Ruído: 9785.64363724165 \n",
      "\n",
      "Budget: 1\n",
      "Consulta: Q3\n",
      "Sensibilidade: 4.19586378328507e-05\n",
      "Resposta Original: 1.9506981696081243\n",
      "Resposta + Ruído: 1.950715410803062 \n",
      "\n",
      "Budget: 1\n",
      "Consulta: Q4\n",
      "Sensibilidade: 1\n",
      "Resposta Original: 11687\n",
      "Resposta + Ruído: 11687.410909310413 \n",
      "\n",
      "Budget: 10\n",
      "Consulta: Q1\n",
      "Sensibilidade: 4.5636285693984036e-05\n",
      "Resposta Original: 1.7710781704270915\n",
      "Resposta + Ruído: 1.77108004566456 \n",
      "\n",
      "Budget: 10\n",
      "Consulta: Q2\n",
      "Sensibilidade: 4\n",
      "Resposta Original: 9784\n",
      "Resposta + Ruído: 9784.164363724165 \n",
      "\n",
      "Budget: 10\n",
      "Consulta: Q3\n",
      "Sensibilidade: 4.19586378328507e-05\n",
      "Resposta Original: 1.9506981696081243\n",
      "Resposta + Ruído: 1.950699893727618 \n",
      "\n",
      "Budget: 10\n",
      "Consulta: Q4\n",
      "Sensibilidade: 1\n",
      "Resposta Original: 11687\n",
      "Resposta + Ruído: 11687.041090931041 \n",
      "\n"
     ]
    }
   ],
   "source": [
    "for i in range(0, len(budgets)):\n",
    "    for j in range(0, len(consultas)):\n",
    "        print('Budget:', budgets[i])\n",
    "        print('Consulta: Q'+str(j+1))\n",
    "        print('Sensibilidade:', sensibilidades[j])\n",
    "        print('Resposta Original:', consultas[j](dataset))\n",
    "        print('Resposta + Ruído:', respostas[i][j],'\\n')"
   ]
  },
  {
   "cell_type": "code",
   "execution_count": null,
   "metadata": {},
   "outputs": [],
   "source": []
  }
 ],
 "metadata": {
  "kernelspec": {
   "display_name": "Python 3",
   "language": "python",
   "name": "python3"
  },
  "language_info": {
   "codemirror_mode": {
    "name": "ipython",
    "version": 3
   },
   "file_extension": ".py",
   "mimetype": "text/x-python",
   "name": "python",
   "nbconvert_exporter": "python",
   "pygments_lexer": "ipython3",
   "version": "3.7.3"
  }
 },
 "nbformat": 4,
 "nbformat_minor": 2
}
