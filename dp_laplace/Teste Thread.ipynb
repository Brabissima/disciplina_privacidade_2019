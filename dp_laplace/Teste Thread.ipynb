{
 "cells": [
  {
   "cell_type": "code",
   "execution_count": 4,
   "metadata": {},
   "outputs": [
    {
     "name": "stdout",
     "output_type": "stream",
     "text": [
      "Processando....\n",
      "Executando Thread\n",
      "Executando Thread\n",
      "Executando Thread\n",
      "Executando Thread\n",
      "Executando Thread\n",
      "<class 'str'>\n"
     ]
    }
   ],
   "source": [
    "from multiprocessing.pool import ThreadPool\n",
    "import time\n",
    "\n",
    "pool = ThreadPool(processes=1)\n",
    "\n",
    "def teste_thread():\n",
    "    for k in range(5):\n",
    "        print('Executando Thread')\n",
    "        time.sleep(1)\n",
    "    return 'Thread Executada com sucesso!'\n",
    "\n",
    "def exec():\n",
    "    async_call = pool.apply_async(teste_thread)\n",
    "    print('Processando....')\n",
    "    return async_call.get()\n",
    "\n",
    "if __name__ == '__main__':\n",
    "    print(exec())"
   ]
  },
  {
   "cell_type": "code",
   "execution_count": null,
   "metadata": {},
   "outputs": [],
   "source": []
  }
 ],
 "metadata": {
  "kernelspec": {
   "display_name": "Python 3",
   "language": "python",
   "name": "python3"
  },
  "language_info": {
   "codemirror_mode": {
    "name": "ipython",
    "version": 3
   },
   "file_extension": ".py",
   "mimetype": "text/x-python",
   "name": "python",
   "nbconvert_exporter": "python",
   "pygments_lexer": "ipython3",
   "version": "3.7.3"
  }
 },
 "nbformat": 4,
 "nbformat_minor": 2
}
