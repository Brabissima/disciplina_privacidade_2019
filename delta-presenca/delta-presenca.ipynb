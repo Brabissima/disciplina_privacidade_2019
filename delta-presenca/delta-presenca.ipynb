{
 "cells": [
  {
   "cell_type": "code",
   "execution_count": 1,
   "metadata": {},
   "outputs": [],
   "source": [
    "import pandas as pd\n",
    "import numpy as np\n",
    "import csv"
   ]
  },
  {
   "cell_type": "markdown",
   "metadata": {},
   "source": [
    "# União dos atributos de localidade para dataset Doenças"
   ]
  },
  {
   "cell_type": "code",
   "execution_count": 2,
   "metadata": {},
   "outputs": [],
   "source": [
    "def preProcessamento(dataset):\n",
    "    dataset = doencas.copy() \n",
    "    local = []\n",
    "    cidades = doencas.cidade\n",
    "    estados = doencas.estado\n",
    "\n",
    "    for i in range(0,len(cidades)):\n",
    "        local.append(str('{}, {}'.format(cidades[i], estados[i])))\n",
    "        \n",
    "    pd.DataFrame(local)\n",
    "    dataset = dataset.drop(\"cidade\",axis=1)\n",
    "    dataset = dataset.drop(\"estado\",axis=1)\n",
    "\n",
    "    dataset['local'] = local\n",
    "\n",
    "    sequence = ['id', 'data', 'genero', 'local', 'doenca']\n",
    "    dataset = dataset.reindex(columns=sequence)\n",
    "    \n",
    "    return dataset"
   ]
  },
  {
   "cell_type": "markdown",
   "metadata": {},
   "source": [
    "# União dos atributos de localidade para dataset Background"
   ]
  },
  {
   "cell_type": "code",
   "execution_count": 3,
   "metadata": {},
   "outputs": [],
   "source": [
    "def preProcessamentoBack(dataset):\n",
    "    dataset = background.copy() \n",
    "    local = []\n",
    "    cidades = background.cidade\n",
    "    estados = background.estado\n",
    "\n",
    "    for i in range(0,len(cidades)):\n",
    "        local.append(str('{}, {}'.format(cidades[i], estados[i])))\n",
    "        \n",
    "    pd.DataFrame(local)\n",
    "    dataset = dataset.drop(\"cidade\",axis=1)\n",
    "    dataset = dataset.drop(\"estado\",axis=1)\n",
    "\n",
    "    dataset['local'] = local\n",
    "\n",
    "    sequence = ['nome', 'data', 'genero', 'local']\n",
    "    dataset = dataset.reindex(columns=sequence)\n",
    "    \n",
    "    return dataset"
   ]
  },
  {
   "cell_type": "markdown",
   "metadata": {},
   "source": [
    "# Geração do reticulado de generalizações"
   ]
  },
  {
   "cell_type": "code",
   "execution_count": 4,
   "metadata": {},
   "outputs": [],
   "source": [
    "def gerarHierarquias(NivelMax):\n",
    "    hierarquias = [NivelMax]\n",
    "    while([0,0,0] not in hierarquias):\n",
    "        for i in range(0, len(hierarquias)):\n",
    "            for j in range(0, len(NivelMax)):\n",
    "                h = hierarquias[i].copy()\n",
    "                h[j] = h[j] - 1\n",
    "                if(h[j]>=0):\n",
    "                    if(h not in hierarquias):\n",
    "                        hierarquias.append(h)\n",
    "    return hierarquias"
   ]
  },
  {
   "cell_type": "markdown",
   "metadata": {},
   "source": [
    "# Buscar nível na árvore de generalização"
   ]
  },
  {
   "cell_type": "code",
   "execution_count": 5,
   "metadata": {},
   "outputs": [],
   "source": [
    "def buscaNivel(elemento):\n",
    "    return elemento.count('*')"
   ]
  },
  {
   "cell_type": "markdown",
   "metadata": {},
   "source": [
    "# Função de precisão"
   ]
  },
  {
   "cell_type": "code",
   "execution_count": 6,
   "metadata": {},
   "outputs": [],
   "source": [
    "def precisao(dataset, N, D):\n",
    "    somatorio = 0\n",
    "    for i in range(0,N):\n",
    "        for j in range(0,D):\n",
    "            if(i == 0):                \n",
    "                h = buscaNivel(dataset[j][i])\n",
    "                HGV = 3\n",
    "            elif(i == 1):\n",
    "                h = buscaNivel(dataset[j][i])\n",
    "                HGV = 1\n",
    "            else:\n",
    "                h = buscaNivel(dataset[j][i])\n",
    "                HGV = 2\n",
    "            somatorio += h/HGV\n",
    "    resultado = 1 - (somatorio)/(D*N)\n",
    "    return resultado"
   ]
  },
  {
   "cell_type": "markdown",
   "metadata": {},
   "source": [
    "# Verificar se dataset atende o delta-presença"
   ]
  },
  {
   "cell_type": "code",
   "execution_count": 7,
   "metadata": {},
   "outputs": [],
   "source": [
    "def verificarDelta(dataset, datasetBackground, delta):\n",
    "    regDataset = []\n",
    "    contRegDataset = []\n",
    "    regBack = []\n",
    "    contRegBack = []\n",
    "    for i in dataset:\n",
    "        reg = [i[1],i[2], i[3]]\n",
    "        cont = 1\n",
    "        if(reg not in regDataset):\n",
    "            regDataset.append(reg)\n",
    "            contRegDataset.append(cont)\n",
    "        else:\n",
    "            for j in range(0, len(regDataset)):\n",
    "                if(reg == regDataset[j]):\n",
    "                    contRegDataset[j] = contRegDataset[j] + 1\n",
    "    for i in datasetBackground:\n",
    "        reg = [i[1],i[2], i[3]]\n",
    "        cont = 1\n",
    "        if(reg not in regBack):\n",
    "            regBack.append(reg)\n",
    "            contRegBack.append(cont)\n",
    "        else:\n",
    "            for j in range(0, len(regBack)):\n",
    "                if(reg == regBack[j]):\n",
    "                    contRegBack[j] = contRegBack[j] + 1\n",
    "    for i in range(0, len(regBack)):\n",
    "        if(regDataset[0] == regBack[i]):\n",
    "            probMin = contRegDataset[0]/contRegBack[i]\n",
    "            probMax = contRegDataset[0]/contRegBack[i]\n",
    "            \n",
    "    for i in range(0, len(contRegDataset)):\n",
    "        for j in range(0, len(contRegBack)):\n",
    "            if(regDataset[i] == regBack[j]):\n",
    "                prob = contRegDataset[i]/contRegBack[j]\n",
    "                if(prob <= probMin):\n",
    "                    probMin = prob\n",
    "                elif(prob > probMax):\n",
    "                    probMax = prob\n",
    "    if(probMin>=delta[0] and probMax<=delta[1]):\n",
    "        return True\n",
    "    else:\n",
    "        return False"
   ]
  },
  {
   "cell_type": "markdown",
   "metadata": {},
   "source": [
    "# Selecionar dataset válido com maior utilidade"
   ]
  },
  {
   "cell_type": "code",
   "execution_count": 8,
   "metadata": {},
   "outputs": [],
   "source": [
    "def verificarPrecisao(datasets):\n",
    "    precisoes = []\n",
    "    for dataset in datasets:\n",
    "        precisoes.append(precisao(dataset, 3, len(dataset)))\n",
    "    precisoes = np.array(precisoes)\n",
    "    return datasets[np.argmax(precisoes)]"
   ]
  },
  {
   "cell_type": "markdown",
   "metadata": {},
   "source": [
    "# Delta-presença"
   ]
  },
  {
   "cell_type": "code",
   "execution_count": 9,
   "metadata": {},
   "outputs": [],
   "source": [
    "def deltaPresenca(dataset, datasetBackground, delta, hierarquias):\n",
    "    dataset = np.array(dataset)\n",
    "    datasetBack = np.array(datasetBackground)\n",
    "    datasets = []\n",
    "    for h in hierarquias:\n",
    "        dado = np.copy(dataset)\n",
    "        dadoBack = np.copy(datasetBack)\n",
    "        for i in dado:\n",
    "            data = np.array(i[1].split(\"/\"))\n",
    "            local = np.array(i[3].split(\",\"))\n",
    "            if(h[0] == 3):\n",
    "                i[1] = '*/*/*'\n",
    "            elif(h[0] == 2):\n",
    "                i[1] = '*/*/'+data[2]\n",
    "            elif(h[0] == 1):\n",
    "                i[1] = '*/'+data[1]+'/'+data[2]\n",
    "            if(h[1] == 1):\n",
    "                i[2] = \"*\"\n",
    "            if(h[2] == 2):\n",
    "                i[3] = \"*,*\"\n",
    "            elif(h[2] == 1):\n",
    "                i[3] = \"*,\"+local[1]\n",
    "        for i in dadoBack:\n",
    "            data = np.array(i[1].split(\"/\"))\n",
    "            local = np.array(i[3].split(\",\"))\n",
    "            if(h[0] == 3):\n",
    "                i[1] = '*/*/*'\n",
    "            elif(h[0] == 2):\n",
    "                i[1] = '*/*/'+data[2]\n",
    "            elif(h[0] == 1):\n",
    "                i[1] = '*/'+data[1]+'/'+data[2]\n",
    "            if(h[1] == 1):\n",
    "                i[2] = \"*\"\n",
    "            if(h[2] == 2):\n",
    "                i[3] = \"*,*\"\n",
    "            elif(h[2] == 1):\n",
    "                i[3] = \"*,\"+local[1]\n",
    "        dadoValido = verificarDelta(dado, dadoBack, delta)\n",
    "        \n",
    "        if(dadoValido):\n",
    "            df = pd.DataFrame(dado, columns=['id','data','genero','local','doenca'])\n",
    "            df = df.drop('id', axis=1)\n",
    "            df = np.array(df)\n",
    "            datasets.append(df)\n",
    "            \n",
    "    datasetFinal = verificarPrecisao(datasets)\n",
    "    \n",
    "    return datasetFinal"
   ]
  },
  {
   "cell_type": "markdown",
   "metadata": {},
   "source": [
    "# Organizar dataset e gerar CSV"
   ]
  },
  {
   "cell_type": "code",
   "execution_count": 10,
   "metadata": {},
   "outputs": [],
   "source": [
    "def posProcessamento(dataset, delta):\n",
    "    regUnicos = []\n",
    "    valoresDoencas = []\n",
    "    for i in dataset:\n",
    "        reg = [i[0], i[1], i[2]]\n",
    "        if(reg not in regUnicos):\n",
    "            regUnicos.append(reg)\n",
    "    for reg in regUnicos:\n",
    "        doencas = []\n",
    "        for i in dataset:\n",
    "            registro = [i[0], i[1], i[2]]\n",
    "            if(registro == reg):\n",
    "                doencas.append(i[3])\n",
    "        valoresDoencas.append(doencas)\n",
    "    datasetFinal = []\n",
    "    for i in range(0, len(regUnicos)):\n",
    "        for j in valoresDoencas[i]:\n",
    "            registro = regUnicos[i][0], regUnicos[i][1], regUnicos[i][2], j\n",
    "            datasetFinal.append(registro)\n",
    "    \n",
    "    datasetFinal = pd.DataFrame(datasetFinal, columns=['data','genero','local','doenca'])\n",
    "    arquivo = 'doencas_'+str(delta)+'.csv'\n",
    "    datasetFinal.to_csv(arquivo, index=False)\n",
    "    datasetFinal = np.array(datasetFinal)\n",
    "    return datasetFinal"
   ]
  },
  {
   "cell_type": "markdown",
   "metadata": {},
   "source": [
    "# Execução"
   ]
  },
  {
   "cell_type": "code",
   "execution_count": 11,
   "metadata": {},
   "outputs": [],
   "source": [
    "doencas = pd.read_csv('doencas.csv')\n",
    "background = pd.read_csv('background.csv')"
   ]
  },
  {
   "cell_type": "code",
   "execution_count": 12,
   "metadata": {},
   "outputs": [],
   "source": [
    "dfDoencas = preProcessamento(doencas)\n",
    "dfBackground = preProcessamentoBack(background)"
   ]
  },
  {
   "cell_type": "code",
   "execution_count": 13,
   "metadata": {},
   "outputs": [],
   "source": [
    "NivelMax = ([3, 1, 2])\n",
    "hierarquias = [NivelMax]\n",
    "hierarquias = gerarHierarquias(NivelMax)"
   ]
  },
  {
   "cell_type": "code",
   "execution_count": 14,
   "metadata": {
    "scrolled": false
   },
   "outputs": [
    {
     "name": "stdout",
     "output_type": "stream",
     "text": [
      "0.611111111111112\n",
      "0.611111111111112\n",
      "0.611111111111112\n",
      "0.0\n"
     ]
    }
   ],
   "source": [
    "deltas = [[0.1, 0.5], [0.1, 0.4], [0.1, 0.3], [0.1, 0.2]]\n",
    "porcentagens = [40, 30, 20, 10]\n",
    "for i in range(0, len(deltas)):\n",
    "    datasetFinal = deltaPresenca(dfDoencas, dfBackground, deltas[i], hierarquias)\n",
    "    datasetFinal = posProcessamento(datasetFinal, porcentagens[i])\n",
    "    print(precisao(datasetFinal, 3, datasetFinal.shape[0]))"
   ]
  },
  {
   "cell_type": "code",
   "execution_count": null,
   "metadata": {},
   "outputs": [],
   "source": []
  }
 ],
 "metadata": {
  "kernelspec": {
   "display_name": "Python 3",
   "language": "python",
   "name": "python3"
  },
  "language_info": {
   "codemirror_mode": {
    "name": "ipython",
    "version": 3
   },
   "file_extension": ".py",
   "mimetype": "text/x-python",
   "name": "python",
   "nbconvert_exporter": "python",
   "pygments_lexer": "ipython3",
   "version": "3.7.3"
  }
 },
 "nbformat": 4,
 "nbformat_minor": 2
}
