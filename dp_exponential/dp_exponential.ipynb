{
 "cells": [
  {
   "cell_type": "code",
   "execution_count": 109,
   "metadata": {},
   "outputs": [],
   "source": [
    "import numpy as np\n",
    "import pandas as pd\n",
    "import math\n",
    "import time\n",
    "from scipy.stats import expon\n",
    "from matplotlib import pyplot as plt"
   ]
  },
  {
   "cell_type": "markdown",
   "metadata": {},
   "source": [
    "# Pré-processamento"
   ]
  },
  {
   "cell_type": "code",
   "execution_count": 110,
   "metadata": {},
   "outputs": [],
   "source": [
    "def preProcessamento(dataset):\n",
    "    return np.array(dataset)"
   ]
  },
  {
   "cell_type": "markdown",
   "metadata": {},
   "source": [
    "# Funções de consultas"
   ]
  },
  {
   "cell_type": "code",
   "execution_count": 111,
   "metadata": {},
   "outputs": [],
   "source": [
    "def Q1(dataset):\n",
    "    return dataset[np.argmax(dataset[:,8]),11]"
   ]
  },
  {
   "cell_type": "code",
   "execution_count": 112,
   "metadata": {},
   "outputs": [],
   "source": [
    "def Q2(dataset):\n",
    "    ds_lang = dataset[:,19]\n",
    "    languages = []\n",
    "    languages.append(ds_lang[0])\n",
    "    for i in range(1,len(ds_lang)):\n",
    "        if(ds_lang[i] not in languages):\n",
    "            languages.append(ds_lang[i])\n",
    "    #divide dataset per languages\n",
    "    cluster_languages = len(languages)*[[]]\n",
    "    for lang in range(0, len(languages)):\n",
    "        cluster_lang = []\n",
    "        for registro in range(0,len(dataset)):\n",
    "            if(str(dataset[registro,19]) == str(languages[lang])):\n",
    "                cluster_lang.append(dataset[registro])\n",
    "                cluster_languages[lang] = cluster_lang\n",
    "    output = []\n",
    "    for cluster in cluster_languages:\n",
    "        output.append(Q1(np.array(cluster)))\n",
    "    return output"
   ]
  },
  {
   "cell_type": "code",
   "execution_count": 157,
   "metadata": {},
   "outputs": [],
   "source": [
    "def Q3(dataset):\n",
    "    ds_countries = dataset[:,20]\n",
    "    countries = []\n",
    "    countries.append(ds_countries[0])\n",
    "    for i in range(1,len(ds_countries)):\n",
    "        if(ds_countries[i] not in countries):\n",
    "            countries.append(ds_countries[i])\n",
    "\n",
    "    n = len(countries)\n",
    "\n",
    "    count_countries = n*[0]\n",
    "    verif = []\n",
    "\n",
    "    for c in range(0,n):\n",
    "        for r in range(len(dataset[:,0])):\n",
    "            if(str(dataset[r,20]) == str(countries[c])):\n",
    "                if(countries[c] in verif):\n",
    "                    count_countries[c] += 1\n",
    "                else:\n",
    "                    verif.append(countries[c])\n",
    "                    count_countries[c] = 1\n",
    "    output = []\n",
    "    for i in range(0,3):\n",
    "        movie_country = np.argmax(count_countries)\n",
    "        output.append(countries[movie_country])\n",
    "        count_countries.remove(count_countries[movie_country])\n",
    "        countries.remove(countries[movie_country])\n",
    "    return output"
   ]
  },
  {
   "cell_type": "markdown",
   "metadata": {},
   "source": [
    "# Obtenção da sensibilidade"
   ]
  },
  {
   "cell_type": "code",
   "execution_count": null,
   "metadata": {},
   "outputs": [],
   "source": []
  },
  {
   "cell_type": "code",
   "execution_count": 107,
   "metadata": {},
   "outputs": [],
   "source": [
    "dataset = pd.read_csv('movie_metadata.csv')\n",
    "dataset = preProcessamento(dataset)"
   ]
  }
 ],
 "metadata": {
  "kernelspec": {
   "display_name": "Python 3",
   "language": "python",
   "name": "python3"
  },
  "language_info": {
   "codemirror_mode": {
    "name": "ipython",
    "version": 3
   },
   "file_extension": ".py",
   "mimetype": "text/x-python",
   "name": "python",
   "nbconvert_exporter": "python",
   "pygments_lexer": "ipython3",
   "version": "3.7.3"
  }
 },
 "nbformat": 4,
 "nbformat_minor": 2
}
