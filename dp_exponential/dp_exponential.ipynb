{
 "cells": [
  {
   "cell_type": "code",
   "execution_count": 1,
   "metadata": {},
   "outputs": [],
   "source": [
    "import numpy as np\n",
    "import pandas as pd\n",
    "import math\n",
    "from scipy import stats\n",
    "from matplotlib import pyplot as plt\n",
    "from itertools import combinations"
   ]
  },
  {
   "cell_type": "markdown",
   "metadata": {},
   "source": [
    "# Pré-processamento do dataset"
   ]
  },
  {
   "cell_type": "code",
   "execution_count": 2,
   "metadata": {},
   "outputs": [],
   "source": [
    "def preProcessamento(dataset):\n",
    "    dataset = dataset.drop_duplicates()\n",
    "    for index, row in dataset.iterrows():\n",
    "        if(math.isnan(row['gross']) or type(row['language'])==float):\n",
    "            dataset = dataset.drop(index)\n",
    "    return np.array(dataset)[:2000]"
   ]
  },
  {
   "cell_type": "markdown",
   "metadata": {},
   "source": [
    "# Funções de consultas"
   ]
  },
  {
   "cell_type": "code",
   "execution_count": 3,
   "metadata": {},
   "outputs": [],
   "source": [
    "def Q1(dataset):\n",
    "    return dataset[np.argmax(dataset[:,8]),11]"
   ]
  },
  {
   "cell_type": "code",
   "execution_count": 4,
   "metadata": {},
   "outputs": [],
   "source": [
    "def Q2(dataset):\n",
    "    languages = np.unique(dataset[:,19])\n",
    "    cluster_languages = len(languages)*[[]]\n",
    "    for lang in range(0, len(languages)):\n",
    "        cluster_lang = []\n",
    "        for registro in range(0,len(dataset)):\n",
    "            if(dataset[registro,19] == languages[lang]):\n",
    "                cluster_lang.append(dataset[registro])\n",
    "                cluster_languages[lang] = cluster_lang\n",
    "    output = []\n",
    "    for cluster in cluster_languages:\n",
    "        output.append(Q1(np.array(cluster)))\n",
    "    return output"
   ]
  },
  {
   "cell_type": "code",
   "execution_count": 5,
   "metadata": {},
   "outputs": [],
   "source": [
    "def Q3(dataset):\n",
    "    countries = np.unique(dataset[:,20])\n",
    "    n = len(countries)\n",
    "    count_countries = n*[0]\n",
    "    for c in range(0,n):\n",
    "        for r in range(len(dataset[:,0])):\n",
    "            if(dataset[r,20] == countries[c]):\n",
    "                count_countries[c] += 1\n",
    "    output = []  \n",
    "    for i in range(0,3):\n",
    "        movie_country = np.argmax(count_countries)\n",
    "        output.append(countries[movie_country])   \n",
    "        count_countries = np.delete(count_countries, movie_country, axis=0)\n",
    "        countries = np.delete(countries, movie_country,axis=0)\n",
    "    return output"
   ]
  },
  {
   "cell_type": "markdown",
   "metadata": {},
   "source": [
    "# Funções de score"
   ]
  },
  {
   "cell_type": "code",
   "execution_count": 6,
   "metadata": {},
   "outputs": [],
   "source": [
    "def scoreFunctionQ1(registro, saida):\n",
    "    if(registro[11] == saida):        \n",
    "        return registro[8]\n",
    "    else:\n",
    "        return 0"
   ]
  },
  {
   "cell_type": "code",
   "execution_count": 7,
   "metadata": {},
   "outputs": [],
   "source": [
    "def scoreFunctionQ3(registro,saida):\n",
    "    ds_countries = dataset[:,20]\n",
    "    countries = {}\n",
    "    for i in range(0,len(ds_countries)):\n",
    "        if(ds_countries[i] not in countries):\n",
    "            countries[ds_countries[i]] = 0\n",
    "    for reg in dataset:\n",
    "        if(type(reg[20]) != float):\n",
    "            countries[reg[20]] += 1\n",
    "    scoreFuncQ3 = []\n",
    "    if(registro[20] == saida):\n",
    "        return countries[registro[20]]\n",
    "    else:\n",
    "        return 0"
   ]
  },
  {
   "cell_type": "markdown",
   "metadata": {},
   "source": [
    "# Funções de sensibilidade"
   ]
  },
  {
   "cell_type": "code",
   "execution_count": 8,
   "metadata": {},
   "outputs": [],
   "source": [
    "def sensQ1(dataset):\n",
    "    saidas = dataset[:,11]\n",
    "    sensibilidade = 0\n",
    "    sensOut = []\n",
    "    for saida in saidas:\n",
    "        for registro in dataset:\n",
    "            sensOut.append(scoreFunctionQ1(registro,saida))\n",
    "    sensibilidade = max(sensOut)\n",
    "    return sensibilidade"
   ]
  },
  {
   "cell_type": "code",
   "execution_count": 9,
   "metadata": {},
   "outputs": [],
   "source": [
    "def sensQ2(dataset):\n",
    "    saidas = dataset[:,11]\n",
    "    sensibilidade = 0\n",
    "    sensOut = []\n",
    "    for saida in saidas:\n",
    "        for registro in dataset:\n",
    "            sensOut.append(scoreFunctionQ1(registro,saida))\n",
    "    sensibilidade = max(sensOut)\n",
    "    return sensibilidade"
   ]
  },
  {
   "cell_type": "code",
   "execution_count": 10,
   "metadata": {},
   "outputs": [],
   "source": [
    "def sensQ3(dataset):\n",
    "    saidas = np.unique(dataset[:,20])\n",
    "    sensibilidade = 0\n",
    "    scores = []\n",
    "    for registro in dataset:\n",
    "        for saida in saidas:\n",
    "            scores.append(scoreFunctionQ3(registro,saida))\n",
    "    sensibilidade = max(scores)\n",
    "    return sensibilidade"
   ]
  },
  {
   "cell_type": "markdown",
   "metadata": {},
   "source": [
    "# Funções de randomização das respostas"
   ]
  },
  {
   "cell_type": "code",
   "execution_count": 11,
   "metadata": {},
   "outputs": [],
   "source": [
    "def Q1Rand(budget, sensibilidade, dataset):\n",
    "    xk = np.arange(len(dataset))\n",
    "    pk = []\n",
    "    saidas = dataset[:,11]\n",
    "    probabilidades = []\n",
    "    i = 0\n",
    "    for out in saidas:\n",
    "        linha = []\n",
    "        for registro in dataset:\n",
    "            numerador = np.exp(budget*scoreFunctionQ1(registro,out)/(2*sensibilidade))\n",
    "            denominador = 0\n",
    "            for saida in saidas:\n",
    "                denominador += np.exp(budget*scoreFunctionQ1(registro, saida)/(2*sensibilidade))\n",
    "            linha.append(numerador/denominador)\n",
    "        i += 1\n",
    "        probabilidades.append(linha)\n",
    "    for prob in probabilidades:\n",
    "        pk.append(np.sum(prob)/np.sum(probabilidades))\n",
    "    dist = stats.rv_discrete(name='dist', values=(xk, pk))\n",
    "    reg = dist.rvs()\n",
    "    return dataset[reg,11]"
   ]
  },
  {
   "cell_type": "code",
   "execution_count": 12,
   "metadata": {},
   "outputs": [],
   "source": [
    "def Q2Rand(budget, sensibilidade, dataset):\n",
    "    languages = np.unique(dataset[:,19])\n",
    "    cluster_languages = len(languages)*[[]]\n",
    "    for lang in range(0, len(languages)):\n",
    "        cluster_lang = []\n",
    "        for registro in range(0,len(dataset)):\n",
    "            if(dataset[registro,19] == languages[lang]):\n",
    "                cluster_lang.append(dataset[registro])\n",
    "                cluster_languages[lang] = cluster_lang\n",
    "    output = []\n",
    "    for cluster in cluster_languages:\n",
    "        output.append(Q1Rand(budget, sensibilidade, np.array(cluster)))\n",
    "    return output"
   ]
  },
  {
   "cell_type": "code",
   "execution_count": 13,
   "metadata": {},
   "outputs": [],
   "source": [
    "def Q3Rand(budget, sensibilidade, dataset):\n",
    "    budget = budget/3\n",
    "    probabilidades = []\n",
    "    pk = []\n",
    "    xk = []\n",
    "    saidas = np.unique(dataset[:,20])\n",
    "    xk = np.arange(len(saidas))\n",
    "    for out in saidas:\n",
    "        linha = []\n",
    "        for registro in dataset:\n",
    "            numerador = np.exp(budget*scoreFunctionQ3(registro,out)/(2*sensibilidade))\n",
    "            denominador = 0\n",
    "            for saida in saidas:\n",
    "                denominador += np.exp(budget*scoreFunctionQ3(registro, saida)/(2*sensibilidade))\n",
    "            linha.append(numerador/denominador)\n",
    "        probabilidades.append(linha)\n",
    "    for prob in probabilidades:\n",
    "        pk.append(np.sum(prob)/np.sum(probabilidades))\n",
    "    dist = stats.rv_discrete(name='dist', values=(xk, pk))\n",
    "    output = []\n",
    "    for i in range(0, 3):\n",
    "        valido = False\n",
    "        while(not valido):\n",
    "            reg = dist.rvs()\n",
    "            if(saidas[reg] not in output):\n",
    "                output.append(saidas[reg])\n",
    "                valido = True\n",
    "    return output"
   ]
  },
  {
   "cell_type": "markdown",
   "metadata": {},
   "source": [
    "# Obter as sensibilidades das funções"
   ]
  },
  {
   "cell_type": "code",
   "execution_count": 14,
   "metadata": {},
   "outputs": [],
   "source": [
    "def adquirirSensibilidades(funcSens, dataset):\n",
    "    sensibilidades = []\n",
    "    for func in funcSens:\n",
    "        sensibilidades.append(func(dataset))\n",
    "    return sensibilidades"
   ]
  },
  {
   "cell_type": "markdown",
   "metadata": {},
   "source": [
    "# Gerar CSV"
   ]
  },
  {
   "cell_type": "code",
   "execution_count": 15,
   "metadata": {},
   "outputs": [],
   "source": [
    "def posProcessamento(budgets, respostas, sensibilidades):\n",
    "    datasetFinal = []\n",
    "    for i in range(0, len(budgets)):\n",
    "        registro = [budgets[i]]\n",
    "        for j in range(0, len(respostas[i])):\n",
    "            registro.append(respostas[i][j])\n",
    "        for j in range(0, len(sensibilidades)):\n",
    "            registro.append(sensibilidades[j])\n",
    "        datasetFinal.append(registro)\n",
    "    datasetFinal = pd.DataFrame(datasetFinal, columns=['budget', 'result_q1', 'result_q2', 'result_q3', \n",
    "                                                       'sens _q1', 'sens_q2', 'sens_q3'])\n",
    "    arquivo = 'result.csv'\n",
    "    datasetFinal.to_csv(arquivo, index=False)"
   ]
  },
  {
   "cell_type": "markdown",
   "metadata": {},
   "source": [
    "# Execução"
   ]
  },
  {
   "cell_type": "code",
   "execution_count": 16,
   "metadata": {},
   "outputs": [],
   "source": [
    "dataset = pd.read_csv('movie_metadata.csv')\n",
    "dataset = preProcessamento(dataset)"
   ]
  },
  {
   "cell_type": "code",
   "execution_count": 17,
   "metadata": {},
   "outputs": [],
   "source": [
    "consultas = [Q1, Q2, Q3]\n",
    "funcRand = [Q1Rand, Q2Rand, Q3Rand]\n",
    "funcSens = [sensQ1, sensQ2, sensQ3]\n",
    "budgets = [0.1, 1, 10]\n",
    "sensibilidades = adquirirSensibilidades(funcSens, dataset)"
   ]
  },
  {
   "cell_type": "code",
   "execution_count": null,
   "metadata": {},
   "outputs": [],
   "source": [
    "respostas = []\n",
    "for budget in budgets:\n",
    "    respostaBudget = []\n",
    "    for i in range(0, len(funcRand)):\n",
    "        resposta = funcRand[i](budget, sensibilidades[i], dataset)\n",
    "        respostaBudget.append(resposta)\n",
    "    respostas.append(respostaBudget)\n",
    "posProcessamento(budgets, respostas, sensibilidades)"
   ]
  },
  {
   "cell_type": "code",
   "execution_count": null,
   "metadata": {},
   "outputs": [],
   "source": [
    "for i in range(0, len(budgets)):\n",
    "    for j in range(0, len(consultas)):\n",
    "        print('Budget:', budgets[i])\n",
    "        print('Consulta: Q'+str(j+1))\n",
    "        print('Sensibilidade:', sensibilidades[j])\n",
    "        print('Resposta Original:', consultas[j](dataset))\n",
    "        print('Resposta Randomizada:', respostas[i][j],'\\n')"
   ]
  }
 ],
 "metadata": {
  "kernelspec": {
   "display_name": "Python 3",
   "language": "python",
   "name": "python3"
  },
  "language_info": {
   "codemirror_mode": {
    "name": "ipython",
    "version": 3
   },
   "file_extension": ".py",
   "mimetype": "text/x-python",
   "name": "python",
   "nbconvert_exporter": "python",
   "pygments_lexer": "ipython3",
   "version": "3.7.3"
  }
 },
 "nbformat": 4,
 "nbformat_minor": 2
}
