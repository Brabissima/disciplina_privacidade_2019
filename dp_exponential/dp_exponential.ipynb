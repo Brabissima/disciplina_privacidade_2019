{
 "cells": [
  {
   "cell_type": "code",
   "execution_count": 1,
   "metadata": {},
   "outputs": [],
   "source": [
    "import numpy as np\n",
    "import pandas as pd\n",
    "import math\n",
    "from scipy.stats import expon\n",
    "from matplotlib import pyplot as plt\n",
    "from itertools import combinations"
   ]
  },
  {
   "cell_type": "markdown",
   "metadata": {},
   "source": [
    "# Pré-processamento"
   ]
  },
  {
   "cell_type": "code",
   "execution_count": 2,
   "metadata": {},
   "outputs": [],
   "source": [
    "def preProcessamento(dataset):\n",
    "    dataset = dataset.drop_duplicates()\n",
    "    return np.array(dataset)[:100,:]"
   ]
  },
  {
   "cell_type": "markdown",
   "metadata": {},
   "source": [
    "# Funções de consultas"
   ]
  },
  {
   "cell_type": "code",
   "execution_count": 3,
   "metadata": {},
   "outputs": [],
   "source": [
    "def Q1(dataset):\n",
    "    return dataset[np.argmax(dataset[:,8]),11]"
   ]
  },
  {
   "cell_type": "code",
   "execution_count": 4,
   "metadata": {},
   "outputs": [],
   "source": [
    "def Q2(dataset):\n",
    "    ds_lang = dataset[:,19]\n",
    "    languages = []\n",
    "    for i in range(0,len(ds_lang)):\n",
    "        if(ds_lang[i] not in languages and (type(ds_lang[i]) != float and ds_lang[i] != 'None')):\n",
    "            languages.append(ds_lang[i])\n",
    "    cluster_languages = len(languages)*[[]]\n",
    "    for lang in range(0, len(languages)):\n",
    "        cluster_lang = []\n",
    "        for registro in range(0,len(dataset)):\n",
    "            if(dataset[registro,19] == languages[lang]):\n",
    "                cluster_lang.append(dataset[registro])\n",
    "                cluster_languages[lang] = cluster_lang\n",
    "    output = []\n",
    "    for cluster in cluster_languages:\n",
    "        output.append(Q1(np.array(cluster)))\n",
    "    return output"
   ]
  },
  {
   "cell_type": "code",
   "execution_count": 5,
   "metadata": {},
   "outputs": [],
   "source": [
    "def Q3(dataset):\n",
    "    ds_countries = dataset[:,20]\n",
    "    countries = []\n",
    "    for i in range(0,len(ds_countries)):\n",
    "        if(ds_countries[i] not in countries and (type(ds_countries[i]) != float)):\n",
    "            countries.append(ds_countries[i])\n",
    "    n = len(countries)\n",
    "    count_countries = n*[0]\n",
    "    verif = []\n",
    "    for c in range(0,n):\n",
    "        for r in range(len(dataset[:,0])):\n",
    "            if(dataset[r,20] == countries[c] and (type(ds_countries[i]) != float)):\n",
    "                if(countries[c] in verif):\n",
    "                    count_countries[c] += 1\n",
    "                else:\n",
    "                    verif.append(countries[c])\n",
    "                    count_countries[c] = 1\n",
    "    output = []  \n",
    "    for i in range(0,3):\n",
    "        movie_country = np.argmax(count_countries)\n",
    "        output.append(countries[movie_country])\n",
    "        count_countries.remove(count_countries[movie_country])\n",
    "        countries.remove(countries[movie_country])\n",
    "    return output"
   ]
  },
  {
   "cell_type": "markdown",
   "metadata": {},
   "source": [
    "# Funções de Score"
   ]
  },
  {
   "cell_type": "code",
   "execution_count": 6,
   "metadata": {},
   "outputs": [],
   "source": [
    "def scoreFunctionQ1(dataset, saida):\n",
    "    scoreFuncQ1 = []\n",
    "    for registro in dataset:\n",
    "        if(type(registro[11])!=float and registro[11] != 'None'):\n",
    "            if(registro[11] == saida):\n",
    "                scoreFuncQ1.append(registro[8])\n",
    "            else:\n",
    "                scoreFuncQ1.append(0)\n",
    "    return scoreFuncQ1"
   ]
  },
  {
   "cell_type": "code",
   "execution_count": 7,
   "metadata": {},
   "outputs": [],
   "source": [
    "def scoreFunctionQ2(dataset, saida):\n",
    "    scoreFuncQ2 = []\n",
    "    for registro in dataset:\n",
    "        if(registro[11] in saida and not np.isnan(registro[8])):\n",
    "            scoreFuncQ2.append(registro[8])\n",
    "        else:\n",
    "            scoreFuncQ2.append(0)\n",
    "    return scoreFuncQ2"
   ]
  },
  {
   "cell_type": "code",
   "execution_count": 8,
   "metadata": {},
   "outputs": [],
   "source": [
    "def scoreFunctionQ3(dataset, saida):\n",
    "    ds_countries = dataset[:,20]\n",
    "    countries = {}\n",
    "    for i in range(0,len(ds_countries)):\n",
    "        if(ds_countries[i] not in countries and (type(ds_countries[i]) != float)):\n",
    "            countries[ds_countries[i]] = 0\n",
    "    for registro in dataset:\n",
    "        if(type(registro[20]) != float):\n",
    "            countries[registro[20]] += 1\n",
    "    scoreFuncQ3 = []\n",
    "    for registro in dataset:\n",
    "        if(registro[20] in saida and type(registro[20]) != float):\n",
    "            scoreFuncQ3.append(countries[registro[20]])\n",
    "        else:\n",
    "            scoreFuncQ3.append(0)\n",
    "    return scoreFuncQ3"
   ]
  },
  {
   "cell_type": "markdown",
   "metadata": {},
   "source": [
    "# Função de sensibilidade"
   ]
  },
  {
   "cell_type": "code",
   "execution_count": 9,
   "metadata": {},
   "outputs": [],
   "source": [
    "def sensibilidadeQ1(dataset):\n",
    "    saidas = dataset[:,11]\n",
    "    matrizScore = []\n",
    "    for saida in saidas:\n",
    "        matrizScore.append(scoreFunctionQ1(dataset, saida))\n",
    "    sensibilidade = 0\n",
    "    for i in range(0, len(matrizScore)):\n",
    "        for j in range(0, len(dataset)-1):\n",
    "            for k in range(j+1, len(dataset)):\n",
    "                if(abs(matrizScore[i][j] - matrizScore[i][k]) >= sensibilidade):\n",
    "                    sensibilidade = abs(matrizScore[i][j] - matrizScore[i][k])\n",
    "    return sensibilidade"
   ]
  },
  {
   "cell_type": "code",
   "execution_count": 10,
   "metadata": {},
   "outputs": [],
   "source": [
    "def sensibilidadeQ2(dataset):\n",
    "    saidas = []\n",
    "    for registro in dataset:\n",
    "        saidas.append([registro[11], registro[19]])\n",
    "    matrizScore = []\n",
    "    for saida in saidas:\n",
    "        matrizScore.append(scoreFunctionQ2(dataset, saida))\n",
    "    sensibilidade = 0\n",
    "    for i in range(0, len(matrizScore)-1):\n",
    "        for j in range(i+1, len(matrizScore)):\n",
    "            if(abs(matrizScore[i][i] - matrizScore[j][j]) >= sensibilidade):\n",
    "                sensibilidade = abs(matrizScore[i][i] - matrizScore[j][j])\n",
    "    return sensibilidade"
   ]
  },
  {
   "cell_type": "code",
   "execution_count": 11,
   "metadata": {},
   "outputs": [],
   "source": [
    "def sensibilidadeQ3(dataset):\n",
    "    paises = []\n",
    "    for registro in dataset:\n",
    "        if(registro[20] not in paises and (type(registro[20]) != float)):\n",
    "            paises.append(registro[20])\n",
    "    saidas = combinations(paises, 3)\n",
    "    matrizScore = []\n",
    "    for saida in saidas:\n",
    "        matrizScore.append(scoreFunctionQ3(dataset, saida))\n",
    "    sensibilidade = 0\n",
    "    for i in range(0, len(matrizScore)):\n",
    "        for j in range(0, len(dataset)):\n",
    "            for k in range(0, len(dataset)):\n",
    "                if(abs(matrizScore[i][j] - matrizScore[i][k]) >= sensibilidade):\n",
    "                    sensibilidade = abs(matrizScore[i][j] - matrizScore[i][k])\n",
    "    return sensibilidade"
   ]
  },
  {
   "cell_type": "markdown",
   "metadata": {},
   "source": [
    "# Randomização das respostas das consultas"
   ]
  },
  {
   "cell_type": "code",
   "execution_count": 12,
   "metadata": {},
   "outputs": [],
   "source": [
    "def respostaRandomizada(budget, sensibilidade, dataset):\n",
    "    #np.random.seed(123)\n",
    "    resposta = expon.rvs(loc = 0, scale = sensibilidade/budget)\n",
    "    return resposta"
   ]
  },
  {
   "cell_type": "code",
   "execution_count": 17,
   "metadata": {},
   "outputs": [],
   "source": [
    "def randomizedQ1(budget, sensibilidade, dataset):\n",
    "    datasetSemNan = [['None'] * len(dataset[1])] * len(dataset)\n",
    "    for i in range(0,len(dataset)):\n",
    "        if(math.isnan(dataset[i,8])):\n",
    "            datasetSemNan[i] = dataset[i]\n",
    "            datasetSemNan[i][8] = 0\n",
    "        else:\n",
    "            datasetSemNan[i] = dataset[i]\n",
    "    grosses = [0] * len(dataset)\n",
    "\n",
    "    for i in range(0,len(dataset)):\n",
    "        grosses[i] = datasetSemNan[i][8]\n",
    "\n",
    "    valores = []\n",
    "    for gross in grosses:\n",
    "        if(gross != 0):\n",
    "            valor = abs(gross - respostaRandomizada(budget, sensibilidade, dataset))\n",
    "            valores.append(valor)\n",
    "        else:\n",
    "            valores.append(float('inf'))\n",
    "\n",
    "    return dataset[np.argmin(valores),11]"
   ]
  },
  {
   "cell_type": "code",
   "execution_count": 19,
   "metadata": {},
   "outputs": [],
   "source": [
    "def randomizedQ2(budget, sensibilidade, dataset):\n",
    "    datasetSemNan = [['None'] * len(dataset[1])] * len(dataset)\n",
    "    for i in range(0,len(dataset)):\n",
    "        if(math.isnan(dataset[i,8])):\n",
    "            datasetSemNan[i] = dataset[i]\n",
    "            datasetSemNan[i][8] = 0\n",
    "        else:\n",
    "            datasetSemNan[i] = dataset[i]\n",
    "    grosses = [0] * len(dataset)\n",
    "\n",
    "    for i in range(0,len(dataset)):\n",
    "        grosses[i] = datasetSemNan[i][8]\n",
    "\n",
    "    ds_lang = dataset[:,19]\n",
    "    languages = []\n",
    "    for i in range(0,len(ds_lang)):\n",
    "        if(ds_lang[i] not in languages and (type(ds_lang[i]) != float and ds_lang[i] != 'None')):\n",
    "            languages.append(ds_lang[i])\n",
    "    cluster_languages = len(languages)*[[]]\n",
    "    for lang in range(0, len(languages)):\n",
    "        cluster_lang = []\n",
    "        for registro in range(0,len(dataset)):\n",
    "            if(dataset[registro,19] == languages[lang]):\n",
    "                cluster_lang.append(dataset[registro])\n",
    "                cluster_languages[lang] = cluster_lang\n",
    "    output = []\n",
    "    for cluster in cluster_languages:\n",
    "        valores = []\n",
    "        for gross in cluster:\n",
    "            if(gross[8] != 0):\n",
    "                valor = abs(gross[8] - respostaRandomizada(budget, sensibilidade, dataset))\n",
    "                valores.append(valor)\n",
    "            else:\n",
    "                valores.append(float('inf'))\n",
    "        minimo = np.argmin(valores)\n",
    "        output.append(cluster[np.argmin(valores)][11])\n",
    "    return output"
   ]
  },
  {
   "cell_type": "code",
   "execution_count": 21,
   "metadata": {},
   "outputs": [],
   "source": [
    "def randomizedQ3(budget, sensibilidade, dataset):\n",
    "    ds_countries = dataset[:,20]\n",
    "    countries = []\n",
    "    for i in range(0,len(ds_countries)):\n",
    "        if(ds_countries[i] not in countries and (type(ds_countries[i]) != float)):\n",
    "            countries.append(ds_countries[i])\n",
    "    n = len(countries)\n",
    "    count_countries = n*[0]\n",
    "    verif = []\n",
    "    for c in range(0,n):\n",
    "        for r in range(len(dataset[:,0])):\n",
    "            if(dataset[r,20] == countries[c] and (type(ds_countries[i]) != float)):\n",
    "                if(countries[c] in verif):\n",
    "                    count_countries[c] += 1\n",
    "                else:\n",
    "                    verif.append(countries[c])\n",
    "                    count_countries[c] = 1\n",
    "    \n",
    "    count_randomizado = []\n",
    "    for i in range(0,len(count_countries)):\n",
    "        rand = int(abs(respostaRandomizada(budget, sensibilidade, dataset) - count_countries[i]))\n",
    "        count_randomizado.append(rand)\n",
    "        \n",
    "    output = []  \n",
    "    for i in range(0,3):\n",
    "        movie_country = np.argmax(count_randomizado)\n",
    "        output.append(countries[movie_country])\n",
    "        count_randomizado.remove(count_randomizado[movie_country])\n",
    "        countries.remove(countries[movie_country])\n",
    "    return output"
   ]
  },
  {
   "cell_type": "markdown",
   "metadata": {},
   "source": [
    "# Execução"
   ]
  },
  {
   "cell_type": "code",
   "execution_count": 13,
   "metadata": {},
   "outputs": [],
   "source": [
    "dataset = pd.read_csv('movie_metadata.csv')\n",
    "dataset = preProcessamento(dataset)"
   ]
  },
  {
   "cell_type": "code",
   "execution_count": 28,
   "metadata": {},
   "outputs": [
    {
     "name": "stdout",
     "output_type": "stream",
     "text": [
      "Consulta Original Q1: Avatar \n",
      "Consulta Randomizada: Brave \n",
      "\n",
      "Consulta Original Q2: ['Avatar\\xa0', 'Godzilla Resurgence\\xa0']\n",
      "Consulta Randomizada: ['Indiana Jones and the Kingdom of the Crystal Skull\\xa0', 'Godzilla Resurgence\\xa0']\n",
      "\n",
      "Consulta Original Q3: ['USA', 'UK', 'New Zealand']\n",
      "Consulta Randomizada: ['Belgium', 'USA', 'New Zealand']\n",
      "\n"
     ]
    }
   ],
   "source": [
    "print(\"Consulta Original Q1: {}\\nConsulta Randomizada: {}\\n\".format(Q1(dataset), randomizedQ1(0.1, sensibilidadeQ1(dataset), dataset)))\n",
    "print(\"Consulta Original Q2: {}\\nConsulta Randomizada: {}\\n\".format(Q2(dataset), randomizedQ2(0.1, sensibilidadeQ2(dataset), dataset)))\n",
    "print(\"Consulta Original Q3: {}\\nConsulta Randomizada: {}\\n\".format(Q3(dataset), randomizedQ3(0.1, sensibilidadeQ3(dataset), dataset)))"
   ]
  },
  {
   "cell_type": "code",
   "execution_count": 55,
   "metadata": {},
   "outputs": [
    {
     "name": "stdout",
     "output_type": "stream",
     "text": [
      "Sensibilidade Consulta Q1: 760505847.0\n",
      "Sensibilidade Consulta Q2: 760505847.0\n",
      "Sensibilidade Consulta Q3: 88\n"
     ]
    }
   ],
   "source": [
    "sensibilidades = [sensibilidadeQ1(dataset),sensibilidadeQ2(dataset),sensibilidadeQ3(dataset)]\n",
    "for i in range(0,len(sensibilidades)):\n",
    "    print(\"Sensibilidade Consulta Q{}: {}\".format(i+1,sensibilidades[i]))"
   ]
  }
 ],
 "metadata": {
  "kernelspec": {
   "display_name": "Python 3",
   "language": "python",
   "name": "python3"
  },
  "language_info": {
   "codemirror_mode": {
    "name": "ipython",
    "version": 3
   },
   "file_extension": ".py",
   "mimetype": "text/x-python",
   "name": "python",
   "nbconvert_exporter": "python",
   "pygments_lexer": "ipython3",
   "version": "3.7.3"
  }
 },
 "nbformat": 4,
 "nbformat_minor": 2
}
