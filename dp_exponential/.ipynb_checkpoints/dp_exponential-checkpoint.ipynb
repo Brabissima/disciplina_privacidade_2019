{
 "cells": [
  {
   "cell_type": "code",
   "execution_count": 4,
   "metadata": {},
   "outputs": [],
   "source": [
    "import numpy as np\n",
    "import pandas as pd\n",
    "import math\n",
    "import time\n",
    "from scipy.stats import expon\n",
    "from matplotlib import pyplot as plt"
   ]
  },
  {
   "cell_type": "markdown",
   "metadata": {},
   "source": [
    "# Pré-processamento"
   ]
  },
  {
   "cell_type": "code",
   "execution_count": 8,
   "metadata": {},
   "outputs": [],
   "source": [
    "def preProcessamento(dataset):\n",
    "    return np.array(dataset)"
   ]
  },
  {
   "cell_type": "markdown",
   "metadata": {},
   "source": [
    "# Consultas"
   ]
  },
  {
   "cell_type": "code",
   "execution_count": 137,
   "metadata": {},
   "outputs": [],
   "source": [
    "def Q1(dataset):\n",
    "    return dataset[np.argmax(dataset[:,8]),11]"
   ]
  },
  {
   "cell_type": "code",
   "execution_count": 84,
   "metadata": {},
   "outputs": [],
   "source": [
    "def Q2(dataset):\n",
    "    #unique language values\n",
    "    ds_lang = dataset[:,19]\n",
    "    languages = []\n",
    "    languages.append(ds_lang[0])\n",
    "    for i in range(1,len(ds_lang)):\n",
    "        if(ds_lang[i] not in languages):\n",
    "            languages.append(ds_lang[i])\n",
    "    #divide dataset per languages\n",
    "    cluster_languages = (len(languages)+1)*[[np.array]]\n",
    "    for registro in range(0,len(dataset[:,19])):\n",
    "        for lang in range(0,len(languages)):\n",
    "            if(dataset[registro,19] == languages[lang]):\n",
    "                cluster_languages[lang].append(dataset[registro,:])\n",
    "    for cluster in cluster_languages:\n",
    "        "
   ]
  },
  {
   "cell_type": "code",
   "execution_count": 235,
   "metadata": {},
   "outputs": [],
   "source": [
    "def Q3(dataset):\n",
    "    ds_countries = dataset[:,20]\n",
    "    countries = []\n",
    "    countries.append(ds_lang[0])\n",
    "    for i in range(1,len(ds_countries)):\n",
    "        if(ds_countries[i] not in countries):\n",
    "            countries.append(ds_countries[i])\n",
    "\n",
    "    n = len(countries)\n",
    "\n",
    "    count_countries = n*[1]\n",
    "    verif = []\n",
    "    for r in range(len(dataset[:,0])):\n",
    "        for c in range(0,n):\n",
    "            if(dataset[r,20] == countries[c]):\n",
    "                if(countries[c] in verif):\n",
    "                    count_countries[c] += 1\n",
    "                else:\n",
    "                    verif.append(countries[c])\n",
    "    #len(dataset[:,0])\n",
    "    count_countries\n",
    "    #countries\n",
    "    #movie_country = np.argmax(count_countries)\n",
    "    #output.append(countries[movie_country])"
   ]
  },
  {
   "cell_type": "code",
   "execution_count": 234,
   "metadata": {},
   "outputs": [
    {
     "data": {
      "text/plain": [
       "[1,\n",
       " 3806,\n",
       " 448,\n",
       " 1,\n",
       " 15,\n",
       " 126,\n",
       " 55,\n",
       " 4,\n",
       " 23,\n",
       " 97,\n",
       " 30,\n",
       " 154,\n",
       " 1,\n",
       " 17,\n",
       " 33,\n",
       " 17,\n",
       " 3,\n",
       " 34,\n",
       " 1,\n",
       " 14,\n",
       " 1,\n",
       " 23,\n",
       " 11,\n",
       " 1,\n",
       " 11,\n",
       " 1,\n",
       " 12,\n",
       " 8,\n",
       " 3,\n",
       " 3,\n",
       " 4,\n",
       " 3,\n",
       " 1,\n",
       " 5,\n",
       " 2,\n",
       " 1,\n",
       " 2,\n",
       " 6,\n",
       " 8,\n",
       " 2,\n",
       " 1,\n",
       " 1,\n",
       " 5,\n",
       " 1,\n",
       " 1,\n",
       " 4,\n",
       " 5,\n",
       " 1,\n",
       " 1,\n",
       " 1,\n",
       " 8,\n",
       " 1,\n",
       " 1,\n",
       " 4,\n",
       " 1,\n",
       " 4,\n",
       " 1,\n",
       " 1,\n",
       " 1,\n",
       " 1,\n",
       " 1,\n",
       " 1,\n",
       " 1,\n",
       " 1,\n",
       " 1,\n",
       " 1,\n",
       " 1]"
      ]
     },
     "execution_count": 234,
     "metadata": {},
     "output_type": "execute_result"
    }
   ],
   "source": []
  },
  {
   "cell_type": "code",
   "execution_count": 138,
   "metadata": {},
   "outputs": [],
   "source": [
    "dataset = pd.read_csv('movie_metadata.csv')\n",
    "dataset = preProcessamento(dataset)"
   ]
  },
  {
   "cell_type": "code",
   "execution_count": 139,
   "metadata": {},
   "outputs": [
    {
     "data": {
      "text/plain": [
       "'Avatar\\xa0'"
      ]
     },
     "execution_count": 139,
     "metadata": {},
     "output_type": "execute_result"
    }
   ],
   "source": [
    "Q1(dataset)"
   ]
  },
  {
   "cell_type": "code",
   "execution_count": 140,
   "metadata": {},
   "outputs": [],
   "source": [
    "ds_lang = dataset[:,19]\n",
    "languages = []\n",
    "languages.append(ds_lang[0])\n",
    "for i in range(1,len(ds_lang)):\n",
    "    if(ds_lang[i] not in languages):\n",
    "        languages.append(ds_lang[i])\n",
    "#divide dataset per languages\n",
    "\n",
    "cluster_languages = (len(languages)+1)*[[np.array]]\n",
    "for registro in range(0,len(dataset[:,19])):\n",
    "    for lang in range(0,len(languages)):\n",
    "        if(dataset[registro,19] == languages[lang]):\n",
    "            cluster_languages[lang].append(dataset[registro,:])\n",
    "cluster_languages\n",
    "output = []\n",
    "#movie_highest_gross_lang = []\n",
    "#cluster_languages[len(languages)]\n",
    "#for cluster in cluster_languages:\n",
    "#    output.append(Q1(cluster))"
   ]
  },
  {
   "cell_type": "code",
   "execution_count": 135,
   "metadata": {},
   "outputs": [],
   "source": [
    "ds_lang = dataset[:,19]\n",
    "languages = []\n",
    "languages.append(ds_lang[0])\n",
    "for i in range(1,len(ds_lang)):\n",
    "    if(ds_lang[i] not in languages):\n",
    "        languages.append(ds_lang[i])\n",
    "\n",
    "cluster_languages = (len(languages)+1)*[]\n",
    "lan_clus = []\n",
    "for registro in range(len(dataset[:,19])):\n",
    "    for lan in languages:\n",
    "        if(dataset[registro,19] == lan):\n",
    "            if(lan not in lan_clus):\n",
    "                lan_clus.append(lan)\n",
    "            cluster.append(dataset[registro,:])"
   ]
  }
 ],
 "metadata": {
  "kernelspec": {
   "display_name": "Python 3",
   "language": "python",
   "name": "python3"
  },
  "language_info": {
   "codemirror_mode": {
    "name": "ipython",
    "version": 3
   },
   "file_extension": ".py",
   "mimetype": "text/x-python",
   "name": "python",
   "nbconvert_exporter": "python",
   "pygments_lexer": "ipython3",
   "version": "3.7.3"
  }
 },
 "nbformat": 4,
 "nbformat_minor": 2
}
