{
 "cells": [
  {
   "cell_type": "code",
   "execution_count": 80,
   "metadata": {},
   "outputs": [],
   "source": [
    "import pandas as pd\n",
    "import numpy as np\n",
    "import csv"
   ]
  },
  {
   "cell_type": "markdown",
   "metadata": {},
   "source": [
    "# União dos atributos de localidade"
   ]
  },
  {
   "cell_type": "code",
   "execution_count": 81,
   "metadata": {},
   "outputs": [],
   "source": [
    "def preProcessamento(df):\n",
    "    df = salario.copy() \n",
    "    local = []\n",
    "    cidades = salario.cidade\n",
    "    estados = salario.estado\n",
    "    paises = salario.pais\n",
    "\n",
    "    for i in range(0,len(cidades)):\n",
    "        local.append(str('{}, {}, {}'.format(cidades[i], estados[i], paises[i])))\n",
    "        \n",
    "    pd.DataFrame(local)\n",
    "    df = df.drop(\"cidade\",axis=1)\n",
    "    df = df.drop(\"estado\",axis=1)\n",
    "    df = df.drop(\"pais\",axis=1)\n",
    "\n",
    "    df['local'] = local\n",
    "\n",
    "    sequence = ['id', 'local', 'genero', 'data', 'salario']\n",
    "    df = df.reindex(columns=sequence)\n",
    "    \n",
    "    return df"
   ]
  },
  {
   "cell_type": "markdown",
   "metadata": {},
   "source": [
    "# Buscar Nível na Árvore de Generalização"
   ]
  },
  {
   "cell_type": "code",
   "execution_count": 82,
   "metadata": {},
   "outputs": [],
   "source": [
    "def buscaNivel(elemento):\n",
    "    return elemento.count('*')"
   ]
  },
  {
   "cell_type": "markdown",
   "metadata": {},
   "source": [
    "# Distância entre dois registros"
   ]
  },
  {
   "cell_type": "code",
   "execution_count": 83,
   "metadata": {},
   "outputs": [],
   "source": [
    "def dist(reg1, reg2):\n",
    "    genero1 = np.array(reg1[2])\n",
    "    local1 = np.array(reg1[1].split(\", \"))\n",
    "    data1 = np.array(reg1[3].split(\"/\"))\n",
    "    genero2 = np.array(reg2[2])\n",
    "    local2 = np.array(reg2[1].split(\", \"))\n",
    "    data2 = np.array(reg2[3].split(\"/\"))\n",
    "    distValor = 0\n",
    "    if(genero1 != genero2):\n",
    "        distValor = distValor + 1\n",
    "    if(data1[2] != data2[2]):\n",
    "        distValor = distValor + 3\n",
    "    else:\n",
    "        if(data1[1] != data2[1]):\n",
    "            distValor = distValor + 2\n",
    "        else:\n",
    "            if(data1[0] != data2[0]):\n",
    "                distValor = distValor + 1\n",
    "    if(local1[2] != local2[2]):\n",
    "        distValor = distValor + 3\n",
    "    else:\n",
    "        if(local1[1] != local2[1]):\n",
    "            distValor = distValor + 2\n",
    "        else:\n",
    "            if(local1[0] != local2[0]):\n",
    "                distValor = distValor + 1\n",
    "    return (distValor, reg2[0])"
   ]
  },
  {
   "cell_type": "markdown",
   "metadata": {},
   "source": [
    "# Clusterização dos grupos"
   ]
  },
  {
   "cell_type": "code",
   "execution_count": 84,
   "metadata": {},
   "outputs": [],
   "source": [
    "def agrupa(df, k):\n",
    "    grupos = []\n",
    "    agrupado = []\n",
    "    dfModificado = np.random.permutation(df)\n",
    "    for registro1 in range(0, dfModificado.shape[0]-1):\n",
    "        if(dfModificado[registro1, 0] not in agrupado):\n",
    "            distancia = []\n",
    "            for registro2 in range(registro1+1, dfModificado.shape[0]):\n",
    "                if (dfModificado[registro2, 0] not in agrupado):\n",
    "                    distancia.append(dist(dfModificado[registro1], dfModificado[registro2]))\n",
    "            dtype = [('distancia', int), ('id', int)]\n",
    "            values = distancia\n",
    "            distancia = np.array(values, dtype = dtype)\n",
    "            distancia = np.sort(distancia, order='distancia')\n",
    "            if(len(distancia)+1>=k):\n",
    "                cluster = [dfModificado[registro1,0]]\n",
    "                agrupado.append(dfModificado[registro1,0])\n",
    "                for semelhante in range(0, k-1):\n",
    "                    cluster.append(distancia[semelhante][1])\n",
    "                    agrupado.append(distancia[semelhante][1])\n",
    "                grupos.append(cluster)\n",
    "            else:\n",
    "                restantes = [dfModificado[registro1]]\n",
    "                for restante in range(0, len(distancia)):\n",
    "                    restantes.append(df[distancia[restante][1]-1])\n",
    "                    agrupado.append(df[distancia[restante][1]-1][0])\n",
    "                grupoAdicionado = []\n",
    "                for reg in restantes:\n",
    "                    clusterProximo = []\n",
    "                    if(len(grupos) == len(grupoAdicionado)):\n",
    "                        grupoAdicionado = []\n",
    "                    for i in range(0, len(grupos)):\n",
    "                        if(grupos[i][0] not in grupoAdicionado):\n",
    "                            clusterProximo.append(dist(reg, df[grupos[i][0]-1]))\n",
    "                    valuesCluster = clusterProximo\n",
    "                    clusterProximo = np.array(valuesCluster, dtype = dtype)\n",
    "                    clusterProximo = np.sort(clusterProximo, order='distancia')\n",
    "                    for i in range(0, len(grupos)):\n",
    "                        if(clusterProximo[0][1]==grupos[i][0]):\n",
    "                            grupos[i].append(reg[0])\n",
    "                            agrupado.append(reg[0])\n",
    "                            grupoAdicionado.append(grupos[i][0])\n",
    "    return grupos\n",
    "    #return len(agrupado)"
   ]
  },
  {
   "cell_type": "code",
   "execution_count": 85,
   "metadata": {},
   "outputs": [],
   "source": [
    "#df = preProcessamento(salario)\n",
    "#agrupa(df,16)"
   ]
  },
  {
   "cell_type": "markdown",
   "metadata": {},
   "source": [
    "# Generalização do Grupo"
   ]
  },
  {
   "cell_type": "code",
   "execution_count": 86,
   "metadata": {},
   "outputs": [],
   "source": [
    "def anonimizarGrupo(df, grupo):\n",
    "    grupoAnonimo = []\n",
    "    for registro in grupo:\n",
    "        grupoAnonimo.append(df[registro-1])\n",
    "    grupoAnonimo = np.array(grupoAnonimo)\n",
    "    for registro in grupoAnonimo:\n",
    "        registro[1] = np.array(registro[1].split(', '))\n",
    "        registro[3] = np.array(registro[3].split('/'))\n",
    "    variacaoPais = False\n",
    "    variacaoEstado = False\n",
    "    variacaoCidade = False\n",
    "    variacaoAno = False\n",
    "    variacaoMes = False\n",
    "    variacaoDia = False\n",
    "    variacaoGenero = False\n",
    "    for i in range (1, grupoAnonimo.shape[0]):\n",
    "        if(grupoAnonimo[i-1][1][2]!=grupoAnonimo[i][1][2]):\n",
    "            variacaoPais = True\n",
    "        if(grupoAnonimo[i-1][2]!=grupoAnonimo[i][2]):\n",
    "            variacaoGenero = True\n",
    "        if(grupoAnonimo[i-1][3][2]!=grupoAnonimo[i][3][2]):\n",
    "            variacaoAno = True\n",
    "    if(not variacaoPais):\n",
    "        for i in range (1, grupoAnonimo.shape[0]):\n",
    "            if(grupoAnonimo[i-1][1][1]!=grupoAnonimo[i][1][1]):\n",
    "                variacaoEstado = True\n",
    "    if(not variacaoEstado):\n",
    "        for i in range (1, grupoAnonimo.shape[0]):\n",
    "            if(grupoAnonimo[i-1][1][0]!=grupoAnonimo[i][1][0]):\n",
    "                variacaoCidade = True\n",
    "    if(not variacaoAno):\n",
    "        for i in range (1, grupoAnonimo.shape[0]):\n",
    "            if(grupoAnonimo[i-1][3][1]!=grupoAnonimo[i][3][1]):\n",
    "                variacaoMes = True\n",
    "    if(not variacaoMes):\n",
    "        for i in range (1, grupoAnonimo.shape[0]):\n",
    "            if(grupoAnonimo[i-1][3][0]!=grupoAnonimo[i][3][0]):\n",
    "                variacaoDia = True\n",
    "\n",
    "    if(variacaoAno):\n",
    "        for i in range (0, grupoAnonimo.shape[0]):\n",
    "            grupoAnonimo[i][3] = \"*/*/*\"\n",
    "    elif(variacaoMes):\n",
    "        for i in range (0, grupoAnonimo.shape[0]):\n",
    "            grupoAnonimo[i][3] = \"*/*/\"+grupoAnonimo[i][3][2]\n",
    "    elif(variacaoDia):\n",
    "        for i in range (0, grupoAnonimo.shape[0]):\n",
    "            grupoAnonimo[i][3] = \"*/\"+grupoAnonimo[i][3][1]+\"/\"+grupoAnonimo[i][3][2]\n",
    "    else:\n",
    "        for i in range (0, grupoAnonimo.shape[0]):\n",
    "            grupoAnonimo[i][3] = grupoAnonimo[i][3][0]+\"/\"+grupoAnonimo[i][3][1]+\"/\"+grupoAnonimo[i][3][2]\n",
    "\n",
    "    if(variacaoPais):\n",
    "        for i in range (0, grupoAnonimo.shape[0]):\n",
    "            grupoAnonimo[i][1] = \"*, *, *\"\n",
    "    elif(variacaoEstado):\n",
    "        for i in range (0, grupoAnonimo.shape[0]):\n",
    "            grupoAnonimo[i][1] = \"*, *, \"+grupoAnonimo[i][1][2]\n",
    "    elif(variacaoCidade):\n",
    "        for i in range (0, grupoAnonimo.shape[0]):\n",
    "            grupoAnonimo[i][1] = \"*, \"+grupoAnonimo[i][1][1]+\", \"+grupoAnonimo[i][1][2]\n",
    "    else:\n",
    "        for i in range (0, grupoAnonimo.shape[0]):\n",
    "            grupoAnonimo[i][1] = grupoAnonimo[i][1][0]+\", \"+grupoAnonimo[i][1][1]+\", \"+grupoAnonimo[i][1][2]\n",
    "\n",
    "    if(variacaoGenero):\n",
    "        for i in range (0, grupoAnonimo.shape[0]):\n",
    "            grupoAnonimo[i][2] = \"*\"\n",
    "\n",
    "    return grupoAnonimo"
   ]
  },
  {
   "cell_type": "markdown",
   "metadata": {},
   "source": [
    "# Gerar Dataset"
   ]
  },
  {
   "cell_type": "code",
   "execution_count": 87,
   "metadata": {},
   "outputs": [],
   "source": [
    "def datasetCompleto(df, k):\n",
    "    df = np.array(df)\n",
    "    \n",
    "    grupos = agrupa(df, k)\n",
    "    \n",
    "    dataset = []\n",
    "    for grupo in grupos:\n",
    "        grupo = anonimizarGrupo(df, grupo)\n",
    "        for registroAnonimo in grupo:\n",
    "            dataset.append(registroAnonimo)\n",
    "\n",
    "    dataset = pd.DataFrame(dataset, columns=['id','local','genero','data','salario'])\n",
    "\n",
    "    dataset = dataset.drop('id', axis=1)\n",
    "    \n",
    "    arquivo = 'salario_'+str(k)+'.csv'\n",
    "    \n",
    "    dataset.to_csv(arquivo, index=False)\n",
    "    \n",
    "    dataset = np.array(dataset)\n",
    "    \n",
    "    return dataset"
   ]
  },
  {
   "cell_type": "markdown",
   "metadata": {},
   "source": [
    "# Função de Precisão"
   ]
  },
  {
   "cell_type": "code",
   "execution_count": 88,
   "metadata": {},
   "outputs": [],
   "source": [
    "def precisao(df, N, D):\n",
    "    somatorio = 0\n",
    "    for i in range(0,N):\n",
    "        for j in range(0,D):\n",
    "            if(i == 0):                \n",
    "                h = buscaNivel(df[j][i])\n",
    "                HGV = 3\n",
    "            elif(i == 1):\n",
    "                h = buscaNivel(df[j][i])\n",
    "                HGV = 1\n",
    "            else:\n",
    "                h = buscaNivel(df[j][i])\n",
    "                HGV = 3\n",
    "            somatorio += h/HGV\n",
    "    resultado = 1 - (somatorio)/(D*N)\n",
    "    return resultado"
   ]
  },
  {
   "cell_type": "markdown",
   "metadata": {},
   "source": [
    "# Execução"
   ]
  },
  {
   "cell_type": "code",
   "execution_count": 91,
   "metadata": {},
   "outputs": [],
   "source": [
    "salario = pd.read_csv('salario.csv')"
   ]
  },
  {
   "cell_type": "code",
   "execution_count": 92,
   "metadata": {},
   "outputs": [],
   "source": [
    "df = preProcessamento(salario)"
   ]
  },
  {
   "cell_type": "code",
<<<<<<< HEAD
   "execution_count": 93,
=======
   "execution_count": null,
>>>>>>> ca3ecb3ca80b71967f4b15bbecb06a1d3bee7456
   "metadata": {},
   "outputs": [
    {
     "name": "stdout",
     "output_type": "stream",
     "text": [
<<<<<<< HEAD
      "0.5990000000000018\n",
      "0.40066666666667117\n",
      "0.26311111111111074\n",
      "0.1777777777777757\n"
=======
      "0.5990000000000018\n"
>>>>>>> ca3ecb3ca80b71967f4b15bbecb06a1d3bee7456
     ]
    }
   ],
   "source": [
    "for k in [2,4,8,16]:\n",
    "    dataset = datasetCompleto(df, k)\n",
    "    print(precisao(dataset, 3, dataset.shape[0]))"
   ]
  },
  {
   "cell_type": "code",
   "execution_count": null,
   "metadata": {},
   "outputs": [],
   "source": []
  }
 ],
 "metadata": {
  "kernelspec": {
   "display_name": "Python 3",
   "language": "python",
   "name": "python3"
  },
  "language_info": {
   "codemirror_mode": {
    "name": "ipython",
    "version": 3
   },
   "file_extension": ".py",
   "mimetype": "text/x-python",
   "name": "python",
   "nbconvert_exporter": "python",
   "pygments_lexer": "ipython3",
   "version": "3.7.3"
  }
 },
 "nbformat": 4,
 "nbformat_minor": 2
}
